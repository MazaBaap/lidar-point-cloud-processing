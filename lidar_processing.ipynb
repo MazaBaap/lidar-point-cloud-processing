{
 "cells": [
  {
   "cell_type": "markdown",
   "id": "683d9d45-4ae1-4bbf-a943-a0956037da71",
   "metadata": {},
   "source": [
    "# Load and Visualize Code"
   ]
  },
  {
   "cell_type": "code",
   "execution_count": 1,
   "id": "6a7f37f6-de8a-40fc-b62b-4f791fa1908b",
   "metadata": {},
   "outputs": [
    {
     "name": "stdout",
     "output_type": "stream",
     "text": [
      "Jupyter environment detected. Enabling Open3D WebVisualizer.\n",
      "[Open3D INFO] WebRTC GUI backend enabled.\n",
      "[Open3D INFO] WebRTCWindowSystem: HTTP handshake server disabled.\n"
     ]
    }
   ],
   "source": [
    "import open3d as o3d\n",
    "import numpy as np\n",
    "import time\n",
    "import os\n",
    "import matplotlib.pyplot as plt"
   ]
  },
  {
   "cell_type": "code",
   "execution_count": 2,
   "id": "2bae7a17-e56f-44b7-a947-4c84bc65f9d3",
   "metadata": {},
   "outputs": [
    {
     "name": "stdout",
     "output_type": "stream",
     "text": [
      "Number of points: 123397\n"
     ]
    }
   ],
   "source": [
    "# Path to KITTI .bin file\n",
    "file_path = \"kitti/2011_09_26/0005/velodyne_points/data/0000000000.bin\"\n",
    "\n",
    "# Load .bin file (x, y, z, intensity)\n",
    "points = np.fromfile(file_path, dtype=np.float32).reshape(-1,4)\n",
    "\n",
    "# Create Open3D point cloud (use x,y,z)\n",
    "pcd = o3d.geometry.PointCloud()\n",
    "pcd.points = o3d.utility.Vector3dVector(points[:, :3])\n",
    "\n",
    "# Visualize\n",
    "o3d.visualization.draw_geometries([pcd], window_name=\"Raw Point Cloud\")\n",
    "\n",
    "# Print stats\n",
    "print(\"Number of points:\", len(points))"
   ]
  },
  {
   "cell_type": "markdown",
   "id": "eb2d090e-1c59-4468-8373-f7236f5ba81f",
   "metadata": {},
   "source": [
    "- **Raw Point Cloud**  \n",
    "    ![Raw Point Cloud](raw.png)"
   ]
  },
  {
   "cell_type": "markdown",
   "id": "78f1b058-c341-48f1-b197-a8e694808722",
   "metadata": {},
   "source": [
    "# Exploratory Tasks"
   ]
  },
  {
   "cell_type": "markdown",
   "id": "5ee64e0b-7e30-4a99-80e5-057d2eaf3fa9",
   "metadata": {},
   "source": [
    "## Print point cloud stats"
   ]
  },
  {
   "cell_type": "code",
   "execution_count": 3,
   "id": "38cfd9b4-1774-4e79-be65-e7319ecb1ffc",
   "metadata": {},
   "outputs": [
    {
     "name": "stdout",
     "output_type": "stream",
     "text": [
      "Number of points: 123397\n",
      "Sample points: [[22.71899986  0.031       0.977     ]\n",
      " [18.05200005  0.076       0.81999999]\n",
      " [18.02599907  0.132       0.81900001]\n",
      " [23.03199959  0.249       0.98799998]\n",
      " [23.13899994  0.32300001  0.99199998]]\n",
      "Intensity range: 0.0 0.99\n"
     ]
    }
   ],
   "source": [
    "print(\"Number of points:\", len(np.asarray(pcd.points)))\n",
    "print(\"Sample points:\", np.asarray(pcd.points)[:5])  #First 5 points\n",
    "print(\"Intensity range:\", points[:, 3].min(), points[:, 3].max())"
   ]
  },
  {
   "cell_type": "markdown",
   "id": "cc17f09b-e032-4bee-9f77-726672068d96",
   "metadata": {},
   "source": [
    "## Load another frame"
   ]
  },
  {
   "cell_type": "code",
   "execution_count": 4,
   "id": "842a5f11-7da0-44c5-8d5f-aa2e3741befa",
   "metadata": {},
   "outputs": [],
   "source": [
    "points2 = np.fromfile(\"kitti/2011_09_26/0005/velodyne_points/data/0000000001.bin\", dtype=np.float32).reshape(-1, 4)\n",
    "pcd2 = o3d.geometry.PointCloud()\n",
    "pcd2.points = o3d.utility.Vector3dVector(points2[:, :3])\n",
    "o3d.visualization.draw_geometries([pcd2], window_name=\"Frame 1\")"
   ]
  },
  {
   "cell_type": "markdown",
   "id": "4df333ea-b654-45f2-8291-0991623bcab6",
   "metadata": {},
   "source": [
    "# Downsample the Point Cloud"
   ]
  },
  {
   "cell_type": "markdown",
   "id": "86268e09-049b-4ede-a5b5-a3ba6afb84a6",
   "metadata": {},
   "source": [
    "## Code Downsampling"
   ]
  },
  {
   "cell_type": "code",
   "execution_count": 5,
   "id": "a8b6d4e0-8c1b-44e0-9d05-a909f97ad7a2",
   "metadata": {},
   "outputs": [
    {
     "name": "stdout",
     "output_type": "stream",
     "text": [
      "Downsampled points: 62162\n"
     ]
    }
   ],
   "source": [
    "# Downsample with voxel grid\n",
    "voxel_size = 0.1  # 10 cm\n",
    "pcd_down = pcd.voxel_down_sample(voxel_size)\n",
    "\n",
    "# Visualize\n",
    "o3d.visualization.draw_geometries([pcd_down], window_name=\"Downsampled Point Cloud\")\n",
    "\n",
    "# Print stats\n",
    "print(\"Downsampled points:\", len(np.asarray(pcd_down.points)))"
   ]
  },
  {
   "cell_type": "markdown",
   "id": "92689b74-a580-4c34-8cc8-51c78af62327",
   "metadata": {},
   "source": [
    "- **Downsampled Point Cloud**  \n",
    "![Downsampled Point Cloud](downsampled.png)"
   ]
  },
  {
   "cell_type": "markdown",
   "id": "cd6b57f7-0ffd-4e10-82ca-321e1f367047",
   "metadata": {},
   "source": [
    "## Exploratory Tasks"
   ]
  },
  {
   "cell_type": "code",
   "execution_count": 6,
   "id": "7c40794f-05c1-4881-9702-db91cbeac442",
   "metadata": {},
   "outputs": [
    {
     "name": "stdout",
     "output_type": "stream",
     "text": [
      "Original points: 123397\n",
      "Downsampled points voxel 0.1: 62162\n"
     ]
    }
   ],
   "source": [
    "print(\"Original points:\", len(np.asarray(pcd.points)))\n",
    "print(\"Downsampled points voxel 0.1:\", len(np.asarray(pcd_down.points)))"
   ]
  },
  {
   "cell_type": "markdown",
   "id": "2a6f4a74-a195-456c-ab58-554f59fd519e",
   "metadata": {},
   "source": [
    "## Test voxel sizes (0.05, 0.2)"
   ]
  },
  {
   "cell_type": "code",
   "execution_count": 7,
   "id": "0ca7e704-90af-41f9-a361-0754307732fa",
   "metadata": {},
   "outputs": [
    {
     "name": "stdout",
     "output_type": "stream",
     "text": [
      "Points (0.05): 90749\n",
      "Points (0.2): 34625\n"
     ]
    }
   ],
   "source": [
    "pcd_down_05 = pcd.voxel_down_sample(voxel_size=0.05)\n",
    "pcd_down_20 = pcd.voxel_down_sample(voxel_size=0.2)\n",
    "o3d.visualization.draw_geometries([pcd_down_05], window_name=\"Voxel 0.05\")\n",
    "o3d.visualization.draw_geometries([pcd_down_20], window_name=\"Voxel 0.2\")\n",
    "print(\"Points (0.05):\", len(np.asarray(pcd_down_05.points)))\n",
    "print(\"Points (0.2):\", len(np.asarray(pcd_down_20.points)))"
   ]
  },
  {
   "cell_type": "code",
   "execution_count": 8,
   "id": "f5a107d4-c234-477e-9985-ee0050a0802a",
   "metadata": {},
   "outputs": [
    {
     "name": "stdout",
     "output_type": "stream",
     "text": [
      "Original points: 123397\n",
      "Downsampled points voxel 0.1: 62162\n",
      "Downsampled points voxel 0.2: 34625\n",
      "Downsampled points voxel 0.05: 90749\n"
     ]
    }
   ],
   "source": [
    "print(\"Original points:\", len(np.asarray(pcd.points)))\n",
    "print(\"Downsampled points voxel 0.1:\", len(np.asarray(pcd_down.points)))\n",
    "print(\"Downsampled points voxel 0.2:\", len(np.asarray(pcd_down_20.points)))\n",
    "print(\"Downsampled points voxel 0.05:\", len(np.asarray(pcd_down_05.points)))"
   ]
  },
  {
   "cell_type": "markdown",
   "id": "f190f2c7-4618-4690-985d-a0ef40da9f35",
   "metadata": {},
   "source": [
    "# Remove Noise"
   ]
  },
  {
   "cell_type": "markdown",
   "id": "0df1a2bb-948a-49e7-98c3-83d0dd2e8598",
   "metadata": {},
   "source": [
    "## Code Filtering"
   ]
  },
  {
   "cell_type": "code",
   "execution_count": 9,
   "id": "c6356083-8a7f-4fb5-89fe-78baff5dfade",
   "metadata": {},
   "outputs": [
    {
     "name": "stdout",
     "output_type": "stream",
     "text": [
      "Filtered points: 60139\n",
      "Removed points: 2023\n"
     ]
    }
   ],
   "source": [
    "# Statistical outlier removal\n",
    "cl, ind = pcd_down.remove_statistical_outlier(nb_neighbors=20, std_ratio=2.0)\n",
    "\n",
    "# Select inliers\n",
    "pcd_filtered = pcd_down.select_by_index(ind)\n",
    "\n",
    "# Visualize\n",
    "o3d.visualization.draw_geometries([pcd_filtered], window_name=\"Filtered Point Cloud\")\n",
    "\n",
    "# Print stats\n",
    "print(\"Filtered points:\", len(np.asarray(pcd_filtered.points)))\n",
    "print(\"Removed points:\", len(np.asarray(pcd_down.points)) - len(np.asarray(pcd_filtered.points)))"
   ]
  },
  {
   "cell_type": "markdown",
   "id": "ef981c2e-0a30-46e8-aea0-cfa4830125ae",
   "metadata": {},
   "source": [
    "- **Filtered Point Cloud**  \n",
    "  ![Filtered Point Cloud](filtered.png)"
   ]
  },
  {
   "cell_type": "markdown",
   "id": "5b62d771-940d-48dc-ae3c-324fdf8594e2",
   "metadata": {},
   "source": [
    "# Segment Ground vs. Objects"
   ]
  },
  {
   "cell_type": "markdown",
   "id": "af24df37-8d75-49b7-b35a-81269f83ea53",
   "metadata": {},
   "source": [
    "# Code Segmentation"
   ]
  },
  {
   "cell_type": "code",
   "execution_count": 10,
   "id": "83b742bf-fd83-40db-a056-6c77f95db879",
   "metadata": {},
   "outputs": [
    {
     "name": "stdout",
     "output_type": "stream",
     "text": [
      "Ground points: 29584 (49.19%)\n",
      "Obstacle points: 30555\n",
      "Plane model: [0.00227031 0.00497045 0.99998507 1.731208  ]\n"
     ]
    }
   ],
   "source": [
    "# RANSAC ground segmentation\n",
    "plane_model, inliers = pcd_filtered.segment_plane(\n",
    "    distance_threshold=0.3, \n",
    "    ransac_n=3, \n",
    "    num_iterations=100\n",
    ")\n",
    "# Extract ground and obstacles\n",
    "ground = pcd_filtered.select_by_index(inliers)\n",
    "obstacles = pcd_filtered.select_by_index(inliers, invert=True)\n",
    "\n",
    "# Color ground (green) and obstacles (red)\n",
    "ground.paint_uniform_color([0, 1, 0]) # Green\n",
    "obstacles.paint_uniform_color([1, 0, 0]) # Red\n",
    "\n",
    "# Visualize\n",
    "o3d.visualization.draw_geometries([ground, obstacles], window_name=\"Ground vs. Objects\")\n",
    "\n",
    "# Print stats\n",
    "ground_points = len(np.asarray(ground.points))\n",
    "obstacle_points = len(np.asarray(obstacles.points))\n",
    "total_points = ground_points + obstacle_points\n",
    "print(\"Ground points:\", ground_points, f\"({ground_points/total_points:.2%})\")\n",
    "print(\"Obstacle points:\", obstacle_points)\n",
    "print(\"Plane model:\", plane_model)"
   ]
  },
  {
   "cell_type": "markdown",
   "id": "46b0a9b2-f62b-4829-ac65-0f0d27967d47",
   "metadata": {},
   "source": [
    "- **Ground vs. Objects**  \n",
    "  ![Segmented Point Cloud](segmented.png)"
   ]
  },
  {
   "cell_type": "markdown",
   "id": "865fc13b-f352-40ad-bdc3-b71dfabc4da3",
   "metadata": {},
   "source": [
    "# Cluster Objects"
   ]
  },
  {
   "cell_type": "code",
   "execution_count": 14,
   "id": "dde0b1f5-852d-4901-98f7-ef9029aabc85",
   "metadata": {},
   "outputs": [
    {
     "name": "stdout",
     "output_type": "stream",
     "text": [
      "Number of clusters: 212 (excluding noise)\n"
     ]
    }
   ],
   "source": [
    "# Apply DBSCAN clustering\n",
    "labels = np.array(obstacles.cluster_dbscan(eps=0.5, min_points=10))\n",
    "max_label = labels.max()\n",
    "\n",
    "# Color the clusters\n",
    "colors = plt.get_cmap(\"tab20\")(labels / (max_label if max_label > 0 else 1))\n",
    "colors[labels < 0] = 0  # Black for noise points\n",
    "obstacles.colors = o3d.utility.Vector3dVector(colors[:, :3])\n",
    "\n",
    "# Visualize the clustered obstacles\n",
    "o3d.visualization.draw_geometries([obstacles], window_name=\"Clustered Objects\")\n",
    "\n",
    "print(f\"Number of clusters: {max_label + 1} (excluding noise)\")"
   ]
  },
  {
   "cell_type": "markdown",
   "id": "8765efd0-282b-49b0-9457-8e0853e8bc12",
   "metadata": {},
   "source": [
    "# Label Objects"
   ]
  },
  {
   "cell_type": "code",
   "execution_count": null,
   "id": "2d147f11-efd9-460b-b934-e26061ca7186",
   "metadata": {},
   "outputs": [],
   "source": [
    "labels_dict = {}\n",
    "for i in range(max_label + 1):\n",
    "    cluster = obstacles.select_by_index(np.where(labels == i)[0])\n",
    "    num_points = len(np.asarray(cluster.points))\n",
    "    labels_dict[i] = \"Car\" if num_points > 100 else \"Pedestrian\"\n",
    "with open(\"labels.txt\", \"w\") as f:\n",
    "    for cluster_id, label in labels_dict.items():\n",
    "        f.write(f\"Cluster {cluster_id}: {label}\\n\")\n",
    "print(labels_dict)"
   ]
  },
  {
   "cell_type": "markdown",
   "id": "878fecfe-30c0-4137-8acd-818099c56715",
   "metadata": {},
   "source": [
    "# Process a Sequence"
   ]
  },
  {
   "cell_type": "code",
   "execution_count": null,
   "id": "60c23d6b-f5c9-4409-8968-638feca941d4",
   "metadata": {},
   "outputs": [],
   "source": [
    "data_dir = \"kitti/2011_09_26/0005/velodyne_points/data/\"\n",
    "frames = sorted(os.listdir(data_dir))[:5]\n",
    "os.makedirs(\"output\", exist_ok=True)\n",
    "for frame in frames:\n",
    "    points = np.fromfile(os.path.join(data_dir, frame), dtype=np.float32).reshape(-1, 4)\n",
    "    pcd = o3d.geometry.PointCloud()\n",
    "    pcd.points = o3d.utility.Vector3dVector(points[:, :3])\n",
    "    pcd_down = pcd.voxel_down_sample(voxel_size=0.1)\n",
    "    cl, ind = pcd_down.remove_statistical_outlier(nb_neighbors=20, std_ratio=2.0)\n",
    "    pcd_filtered = pcd_down.select_by_index(ind)\n",
    "    plane_model, inliers = pcd_filtered.segment_plane(distance_threshold=0.3, ransac_n=3, num_iterations=100)\n",
    "    obstacles = pcd_filtered.select_by_index(inliers, invert=True)\n",
    "    labels = np.array(obstacles.cluster_dbscan(eps=0.5, min_points=10))\n",
    "    colors = plt.get_cmap(\"tab20\")(labels / (labels.max() if labels.max() > 0 else 1))\n",
    "    obstacles.colors = o3d.utility.Vector3dVector(colors[:, :3])\n",
    "    o3d.io.write_point_cloud(f\"output/frame_{frame}.pcd\", obstacles)\n",
    "    print(f\"Processed {frame}\")"
   ]
  }
 ],
 "metadata": {
  "kernelspec": {
   "display_name": "Python 3 (ipykernel)",
   "language": "python",
   "name": "python3"
  },
  "language_info": {
   "codemirror_mode": {
    "name": "ipython",
    "version": 3
   },
   "file_extension": ".py",
   "mimetype": "text/x-python",
   "name": "python",
   "nbconvert_exporter": "python",
   "pygments_lexer": "ipython3",
   "version": "3.10.17"
  }
 },
 "nbformat": 4,
 "nbformat_minor": 5
}
