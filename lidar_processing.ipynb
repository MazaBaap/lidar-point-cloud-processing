{
 "cells": [
  {
   "cell_type": "markdown",
   "id": "683d9d45-4ae1-4bbf-a943-a0956037da71",
   "metadata": {},
   "source": [
    "# Load and Visualize Code"
   ]
  },
  {
   "cell_type": "code",
   "execution_count": 1,
   "id": "6a7f37f6-de8a-40fc-b62b-4f791fa1908b",
   "metadata": {},
   "outputs": [
    {
     "name": "stdout",
     "output_type": "stream",
     "text": [
      "Jupyter environment detected. Enabling Open3D WebVisualizer.\n",
      "[Open3D INFO] WebRTC GUI backend enabled.\n",
      "[Open3D INFO] WebRTCWindowSystem: HTTP handshake server disabled.\n"
     ]
    }
   ],
   "source": [
    "import open3d as o3d\n",
    "import numpy as np\n",
    "import time\n",
    "import os\n",
    "import matplotlib.pyplot as plt"
   ]
  },
  {
   "cell_type": "code",
   "execution_count": 2,
   "id": "2bae7a17-e56f-44b7-a947-4c84bc65f9d3",
   "metadata": {},
   "outputs": [
    {
     "name": "stdout",
     "output_type": "stream",
     "text": [
      "Number of points: 123397\n"
     ]
    }
   ],
   "source": [
    "# Path to KITTI .bin file\n",
    "file_path = \"kitti/2011_09_26/0005/velodyne_points/data/0000000000.bin\"\n",
    "\n",
    "# Load .bin file (x, y, z, intensity)\n",
    "points = np.fromfile(file_path, dtype=np.float32).reshape(-1,4)\n",
    "\n",
    "# Create Open3D point cloud (use x,y,z)\n",
    "pcd = o3d.geometry.PointCloud()\n",
    "pcd.points = o3d.utility.Vector3dVector(points[:, :3])\n",
    "\n",
    "# Visualize\n",
    "o3d.visualization.draw_geometries([pcd], window_name=\"Raw Point Cloud\")\n",
    "\n",
    "# Print stats\n",
    "print(\"Number of points:\", len(points))"
   ]
  },
  {
   "cell_type": "markdown",
   "id": "eb2d090e-1c59-4468-8373-f7236f5ba81f",
   "metadata": {},
   "source": [
    "- **Raw Point Cloud**  \n",
    "    ![Raw Point Cloud](raw.png)"
   ]
  },
  {
   "cell_type": "markdown",
   "id": "78f1b058-c341-48f1-b197-a8e694808722",
   "metadata": {},
   "source": [
    "# Exploratory Tasks"
   ]
  },
  {
   "cell_type": "markdown",
   "id": "5ee64e0b-7e30-4a99-80e5-057d2eaf3fa9",
   "metadata": {},
   "source": [
    "## Print point cloud stats"
   ]
  },
  {
   "cell_type": "code",
   "execution_count": 3,
   "id": "38cfd9b4-1774-4e79-be65-e7319ecb1ffc",
   "metadata": {},
   "outputs": [
    {
     "name": "stdout",
     "output_type": "stream",
     "text": [
      "Number of points: 123397\n",
      "Sample points: [[22.71899986  0.031       0.977     ]\n",
      " [18.05200005  0.076       0.81999999]\n",
      " [18.02599907  0.132       0.81900001]\n",
      " [23.03199959  0.249       0.98799998]\n",
      " [23.13899994  0.32300001  0.99199998]]\n",
      "Intensity range: 0.0 0.99\n"
     ]
    }
   ],
   "source": [
    "print(\"Number of points:\", len(np.asarray(pcd.points)))\n",
    "print(\"Sample points:\", np.asarray(pcd.points)[:5])  #First 5 points\n",
    "print(\"Intensity range:\", points[:, 3].min(), points[:, 3].max())"
   ]
  },
  {
   "cell_type": "markdown",
   "id": "cc17f09b-e032-4bee-9f77-726672068d96",
   "metadata": {},
   "source": [
    "## Load another frame"
   ]
  },
  {
   "cell_type": "code",
   "execution_count": 4,
   "id": "842a5f11-7da0-44c5-8d5f-aa2e3741befa",
   "metadata": {},
   "outputs": [],
   "source": [
    "points2 = np.fromfile(\"kitti/2011_09_26/0005/velodyne_points/data/0000000001.bin\", dtype=np.float32).reshape(-1, 4)\n",
    "pcd2 = o3d.geometry.PointCloud()\n",
    "pcd2.points = o3d.utility.Vector3dVector(points2[:, :3])\n",
    "o3d.visualization.draw_geometries([pcd2], window_name=\"Frame 1\")"
   ]
  },
  {
   "cell_type": "markdown",
   "id": "4df333ea-b654-45f2-8291-0991623bcab6",
   "metadata": {},
   "source": [
    "# Downsample the Point Cloud"
   ]
  },
  {
   "cell_type": "markdown",
   "id": "86268e09-049b-4ede-a5b5-a3ba6afb84a6",
   "metadata": {},
   "source": [
    "## Code Downsampling"
   ]
  },
  {
   "cell_type": "code",
   "execution_count": 5,
   "id": "a8b6d4e0-8c1b-44e0-9d05-a909f97ad7a2",
   "metadata": {},
   "outputs": [
    {
     "name": "stdout",
     "output_type": "stream",
     "text": [
      "Downsampled points: 62162\n"
     ]
    }
   ],
   "source": [
    "# Downsample with voxel grid\n",
    "voxel_size = 0.1  # 10 cm\n",
    "pcd_down = pcd.voxel_down_sample(voxel_size)\n",
    "\n",
    "# Visualize\n",
    "o3d.visualization.draw_geometries([pcd_down], window_name=\"Downsampled Point Cloud\")\n",
    "\n",
    "# Print stats\n",
    "print(\"Downsampled points:\", len(np.asarray(pcd_down.points)))"
   ]
  },
  {
   "cell_type": "markdown",
   "id": "92689b74-a580-4c34-8cc8-51c78af62327",
   "metadata": {},
   "source": [
    "- **Downsampled Point Cloud**  \n",
    "![Downsampled Point Cloud](downsampled.png)"
   ]
  },
  {
   "cell_type": "markdown",
   "id": "cd6b57f7-0ffd-4e10-82ca-321e1f367047",
   "metadata": {},
   "source": [
    "## Exploratory Tasks"
   ]
  },
  {
   "cell_type": "code",
   "execution_count": 6,
   "id": "7c40794f-05c1-4881-9702-db91cbeac442",
   "metadata": {},
   "outputs": [
    {
     "name": "stdout",
     "output_type": "stream",
     "text": [
      "Original points: 123397\n",
      "Downsampled points voxel 0.1: 62162\n"
     ]
    }
   ],
   "source": [
    "print(\"Original points:\", len(np.asarray(pcd.points)))\n",
    "print(\"Downsampled points voxel 0.1:\", len(np.asarray(pcd_down.points)))"
   ]
  },
  {
   "cell_type": "markdown",
   "id": "2a6f4a74-a195-456c-ab58-554f59fd519e",
   "metadata": {},
   "source": [
    "## Test voxel sizes (0.05, 0.2)"
   ]
  },
  {
   "cell_type": "code",
   "execution_count": 7,
   "id": "0ca7e704-90af-41f9-a361-0754307732fa",
   "metadata": {},
   "outputs": [
    {
     "name": "stdout",
     "output_type": "stream",
     "text": [
      "Points (0.05): 90749\n",
      "Points (0.2): 34625\n"
     ]
    }
   ],
   "source": [
    "pcd_down_05 = pcd.voxel_down_sample(voxel_size=0.05)\n",
    "pcd_down_20 = pcd.voxel_down_sample(voxel_size=0.2)\n",
    "o3d.visualization.draw_geometries([pcd_down_05], window_name=\"Voxel 0.05\")\n",
    "o3d.visualization.draw_geometries([pcd_down_20], window_name=\"Voxel 0.2\")\n",
    "print(\"Points (0.05):\", len(np.asarray(pcd_down_05.points)))\n",
    "print(\"Points (0.2):\", len(np.asarray(pcd_down_20.points)))"
   ]
  },
  {
   "cell_type": "code",
   "execution_count": 8,
   "id": "f5a107d4-c234-477e-9985-ee0050a0802a",
   "metadata": {},
   "outputs": [
    {
     "name": "stdout",
     "output_type": "stream",
     "text": [
      "Original points: 123397\n",
      "Downsampled points voxel 0.1: 62162\n",
      "Downsampled points voxel 0.2: 34625\n",
      "Downsampled points voxel 0.05: 90749\n"
     ]
    }
   ],
   "source": [
    "print(\"Original points:\", len(np.asarray(pcd.points)))\n",
    "print(\"Downsampled points voxel 0.1:\", len(np.asarray(pcd_down.points)))\n",
    "print(\"Downsampled points voxel 0.2:\", len(np.asarray(pcd_down_20.points)))\n",
    "print(\"Downsampled points voxel 0.05:\", len(np.asarray(pcd_down_05.points)))"
   ]
  },
  {
   "cell_type": "markdown",
   "id": "f190f2c7-4618-4690-985d-a0ef40da9f35",
   "metadata": {},
   "source": [
    "# Remove Noise"
   ]
  },
  {
   "cell_type": "markdown",
   "id": "0df1a2bb-948a-49e7-98c3-83d0dd2e8598",
   "metadata": {},
   "source": [
    "## Code Filtering"
   ]
  },
  {
   "cell_type": "code",
   "execution_count": 9,
   "id": "c6356083-8a7f-4fb5-89fe-78baff5dfade",
   "metadata": {},
   "outputs": [
    {
     "name": "stdout",
     "output_type": "stream",
     "text": [
      "Filtered points: 60139\n",
      "Removed points: 2023\n"
     ]
    }
   ],
   "source": [
    "# Statistical outlier removal\n",
    "cl, ind = pcd_down.remove_statistical_outlier(nb_neighbors=20, std_ratio=2.0)\n",
    "\n",
    "# Select inliers\n",
    "pcd_filtered = pcd_down.select_by_index(ind)\n",
    "\n",
    "# Visualize\n",
    "o3d.visualization.draw_geometries([pcd_filtered], window_name=\"Filtered Point Cloud\")\n",
    "\n",
    "# Print stats\n",
    "print(\"Filtered points:\", len(np.asarray(pcd_filtered.points)))\n",
    "print(\"Removed points:\", len(np.asarray(pcd_down.points)) - len(np.asarray(pcd_filtered.points)))"
   ]
  },
  {
   "cell_type": "markdown",
   "id": "ef981c2e-0a30-46e8-aea0-cfa4830125ae",
   "metadata": {},
   "source": [
    "- **Filtered Point Cloud**  \n",
    "  ![Filtered Point Cloud](filtered.png)"
   ]
  },
  {
   "cell_type": "markdown",
   "id": "5b62d771-940d-48dc-ae3c-324fdf8594e2",
   "metadata": {},
   "source": [
    "# Segment Ground vs. Objects"
   ]
  },
  {
   "cell_type": "markdown",
   "id": "af24df37-8d75-49b7-b35a-81269f83ea53",
   "metadata": {},
   "source": [
    "# Code Segmentation"
   ]
  },
  {
   "cell_type": "code",
   "execution_count": 10,
   "id": "83b742bf-fd83-40db-a056-6c77f95db879",
   "metadata": {},
   "outputs": [
    {
     "name": "stdout",
     "output_type": "stream",
     "text": [
      "Ground points: 29584 (49.19%)\n",
      "Obstacle points: 30555\n",
      "Plane model: [0.00227031 0.00497045 0.99998507 1.731208  ]\n"
     ]
    }
   ],
   "source": [
    "# RANSAC ground segmentation\n",
    "plane_model, inliers = pcd_filtered.segment_plane(\n",
    "    distance_threshold=0.3, \n",
    "    ransac_n=3, \n",
    "    num_iterations=100\n",
    ")\n",
    "# Extract ground and obstacles\n",
    "ground = pcd_filtered.select_by_index(inliers)\n",
    "obstacles = pcd_filtered.select_by_index(inliers, invert=True)\n",
    "\n",
    "# Color ground (green) and obstacles (red)\n",
    "ground.paint_uniform_color([0, 1, 0]) # Green\n",
    "obstacles.paint_uniform_color([1, 0, 0]) # Red\n",
    "\n",
    "# Visualize\n",
    "o3d.visualization.draw_geometries([ground, obstacles], window_name=\"Ground vs. Objects\")\n",
    "\n",
    "# Print stats\n",
    "ground_points = len(np.asarray(ground.points))\n",
    "obstacle_points = len(np.asarray(obstacles.points))\n",
    "total_points = ground_points + obstacle_points\n",
    "print(\"Ground points:\", ground_points, f\"({ground_points/total_points:.2%})\")\n",
    "print(\"Obstacle points:\", obstacle_points)\n",
    "print(\"Plane model:\", plane_model)"
   ]
  },
  {
   "cell_type": "markdown",
   "id": "46b0a9b2-f62b-4829-ac65-0f0d27967d47",
   "metadata": {},
   "source": [
    "- **Ground vs. Objects**  \n",
    "  ![Segmented Point Cloud](segmented.png)"
   ]
  },
  {
   "cell_type": "markdown",
   "id": "865fc13b-f352-40ad-bdc3-b71dfabc4da3",
   "metadata": {},
   "source": [
    "# Cluster Objects"
   ]
  },
  {
   "cell_type": "code",
   "execution_count": 18,
   "id": "dde0b1f5-852d-4901-98f7-ef9029aabc85",
   "metadata": {},
   "outputs": [
    {
     "name": "stdout",
     "output_type": "stream",
     "text": [
      "Number of clusters: 445 (excluding noise)\n"
     ]
    }
   ],
   "source": [
    "# Apply DBSCAN clustering\n",
    "labels = np.array(obstacles.cluster_dbscan(eps=0.3, min_points=5))\n",
    "max_label = labels.max()\n",
    "\n",
    "# Color the clusters\n",
    "colors = plt.get_cmap(\"tab20\")(labels / (max_label if max_label > 0 else 1))\n",
    "colors[labels < 0] = 0  # Black for noise points\n",
    "obstacles.colors = o3d.utility.Vector3dVector(colors[:, :3])\n",
    "\n",
    "# Visualize the clustered obstacles\n",
    "o3d.visualization.draw_geometries([obstacles], window_name=\"Clustered Objects\")\n",
    "\n",
    "\n",
    "# Save the visualization as an image\n",
    "vis = o3d.visualization.Visualizer()\n",
    "vis.create_window()\n",
    "vis.add_geometry(obstacles)\n",
    "vis.update_geometry(obstacles)\n",
    "vis.poll_events()\n",
    "vis.update_renderer()\n",
    "vis.capture_screen_image(\"clustered.png\")\n",
    "vis.destroy_window()\n",
    "\n",
    "print(f\"Number of clusters: {max_label + 1} (excluding noise)\")"
   ]
  },
  {
   "cell_type": "markdown",
   "id": "4381404f-b3ef-4f34-80af-479b8bcb8a52",
   "metadata": {},
   "source": [
    "- **Clustered Obstacles**  \n",
    "  ![Clustered Obstacles](clustered.png)"
   ]
  },
  {
   "cell_type": "markdown",
   "id": "8765efd0-282b-49b0-9457-8e0853e8bc12",
   "metadata": {},
   "source": [
    "# Label Objects"
   ]
  },
  {
   "cell_type": "code",
   "execution_count": 20,
   "id": "2d147f11-efd9-460b-b934-e26061ca7186",
   "metadata": {},
   "outputs": [
    {
     "name": "stdout",
     "output_type": "stream",
     "text": [
      "{0: 'Pedestrian', 1: 'Car', 2: 'Pedestrian', 3: 'Car', 4: 'Pedestrian', 5: 'Pedestrian', 6: 'Car', 7: 'Car', 8: 'Pedestrian', 9: 'Pedestrian', 10: 'Pedestrian', 11: 'Pedestrian', 12: 'Pedestrian', 13: 'Pedestrian', 14: 'Pedestrian', 15: 'Pedestrian', 16: 'Pedestrian', 17: 'Pedestrian', 18: 'Pedestrian', 19: 'Pedestrian', 20: 'Pedestrian', 21: 'Pedestrian', 22: 'Pedestrian', 23: 'Pedestrian', 24: 'Pedestrian', 25: 'Pedestrian', 26: 'Car', 27: 'Car', 28: 'Pedestrian', 29: 'Car', 30: 'Pedestrian', 31: 'Pedestrian', 32: 'Pedestrian', 33: 'Car', 34: 'Car', 35: 'Pedestrian', 36: 'Car', 37: 'Pedestrian', 38: 'Pedestrian', 39: 'Car', 40: 'Pedestrian', 41: 'Pedestrian', 42: 'Car', 43: 'Car', 44: 'Car', 45: 'Pedestrian', 46: 'Pedestrian', 47: 'Pedestrian', 48: 'Pedestrian', 49: 'Pedestrian', 50: 'Car', 51: 'Car', 52: 'Car', 53: 'Pedestrian', 54: 'Pedestrian', 55: 'Pedestrian', 56: 'Pedestrian', 57: 'Car', 58: 'Pedestrian', 59: 'Car', 60: 'Pedestrian', 61: 'Pedestrian', 62: 'Pedestrian', 63: 'Pedestrian', 64: 'Pedestrian', 65: 'Car', 66: 'Pedestrian', 67: 'Pedestrian', 68: 'Pedestrian', 69: 'Pedestrian', 70: 'Pedestrian', 71: 'Pedestrian', 72: 'Pedestrian', 73: 'Pedestrian', 74: 'Pedestrian', 75: 'Pedestrian', 76: 'Pedestrian', 77: 'Pedestrian', 78: 'Pedestrian', 79: 'Pedestrian', 80: 'Pedestrian', 81: 'Pedestrian', 82: 'Pedestrian', 83: 'Pedestrian', 84: 'Pedestrian', 85: 'Pedestrian', 86: 'Pedestrian', 87: 'Pedestrian', 88: 'Pedestrian', 89: 'Pedestrian', 90: 'Pedestrian', 91: 'Pedestrian', 92: 'Pedestrian', 93: 'Pedestrian', 94: 'Pedestrian', 95: 'Pedestrian', 96: 'Pedestrian', 97: 'Pedestrian', 98: 'Pedestrian', 99: 'Pedestrian', 100: 'Pedestrian', 101: 'Pedestrian', 102: 'Pedestrian', 103: 'Pedestrian', 104: 'Pedestrian', 105: 'Pedestrian', 106: 'Pedestrian', 107: 'Pedestrian', 108: 'Pedestrian', 109: 'Pedestrian', 110: 'Pedestrian', 111: 'Pedestrian', 112: 'Pedestrian', 113: 'Pedestrian', 114: 'Pedestrian', 115: 'Pedestrian', 116: 'Pedestrian', 117: 'Pedestrian', 118: 'Pedestrian', 119: 'Pedestrian', 120: 'Pedestrian', 121: 'Pedestrian', 122: 'Pedestrian', 123: 'Pedestrian', 124: 'Pedestrian', 125: 'Pedestrian', 126: 'Pedestrian', 127: 'Pedestrian', 128: 'Pedestrian', 129: 'Pedestrian', 130: 'Pedestrian', 131: 'Pedestrian', 132: 'Pedestrian', 133: 'Pedestrian', 134: 'Pedestrian', 135: 'Pedestrian', 136: 'Pedestrian', 137: 'Pedestrian', 138: 'Pedestrian', 139: 'Pedestrian', 140: 'Pedestrian', 141: 'Pedestrian', 142: 'Pedestrian', 143: 'Pedestrian', 144: 'Pedestrian', 145: 'Pedestrian', 146: 'Pedestrian', 147: 'Pedestrian', 148: 'Pedestrian', 149: 'Pedestrian', 150: 'Pedestrian', 151: 'Pedestrian', 152: 'Pedestrian', 153: 'Pedestrian', 154: 'Pedestrian', 155: 'Pedestrian', 156: 'Pedestrian', 157: 'Pedestrian', 158: 'Pedestrian', 159: 'Pedestrian', 160: 'Pedestrian', 161: 'Pedestrian', 162: 'Pedestrian', 163: 'Pedestrian', 164: 'Pedestrian', 165: 'Pedestrian', 166: 'Pedestrian', 167: 'Pedestrian', 168: 'Pedestrian', 169: 'Pedestrian', 170: 'Pedestrian', 171: 'Pedestrian', 172: 'Pedestrian', 173: 'Pedestrian', 174: 'Pedestrian', 175: 'Pedestrian', 176: 'Pedestrian', 177: 'Pedestrian', 178: 'Pedestrian', 179: 'Pedestrian', 180: 'Pedestrian', 181: 'Pedestrian', 182: 'Pedestrian', 183: 'Pedestrian', 184: 'Pedestrian', 185: 'Pedestrian', 186: 'Pedestrian', 187: 'Pedestrian', 188: 'Pedestrian', 189: 'Pedestrian', 190: 'Pedestrian', 191: 'Pedestrian', 192: 'Pedestrian', 193: 'Pedestrian', 194: 'Pedestrian', 195: 'Pedestrian', 196: 'Pedestrian', 197: 'Pedestrian', 198: 'Pedestrian', 199: 'Pedestrian', 200: 'Pedestrian', 201: 'Pedestrian', 202: 'Pedestrian', 203: 'Pedestrian', 204: 'Pedestrian', 205: 'Pedestrian', 206: 'Pedestrian', 207: 'Pedestrian', 208: 'Pedestrian', 209: 'Pedestrian', 210: 'Pedestrian', 211: 'Pedestrian', 212: 'Pedestrian', 213: 'Pedestrian', 214: 'Pedestrian', 215: 'Pedestrian', 216: 'Pedestrian', 217: 'Pedestrian', 218: 'Pedestrian', 219: 'Pedestrian', 220: 'Pedestrian', 221: 'Pedestrian', 222: 'Pedestrian', 223: 'Pedestrian', 224: 'Pedestrian', 225: 'Pedestrian', 226: 'Pedestrian', 227: 'Pedestrian', 228: 'Pedestrian', 229: 'Pedestrian', 230: 'Pedestrian', 231: 'Pedestrian', 232: 'Pedestrian', 233: 'Pedestrian', 234: 'Pedestrian', 235: 'Pedestrian', 236: 'Pedestrian', 237: 'Pedestrian', 238: 'Pedestrian', 239: 'Pedestrian', 240: 'Pedestrian', 241: 'Pedestrian', 242: 'Pedestrian', 243: 'Pedestrian', 244: 'Pedestrian', 245: 'Pedestrian', 246: 'Pedestrian', 247: 'Pedestrian', 248: 'Pedestrian', 249: 'Pedestrian', 250: 'Pedestrian', 251: 'Pedestrian', 252: 'Pedestrian', 253: 'Pedestrian', 254: 'Pedestrian', 255: 'Pedestrian', 256: 'Pedestrian', 257: 'Pedestrian', 258: 'Pedestrian', 259: 'Pedestrian', 260: 'Pedestrian', 261: 'Pedestrian', 262: 'Pedestrian', 263: 'Pedestrian', 264: 'Pedestrian', 265: 'Pedestrian', 266: 'Pedestrian', 267: 'Pedestrian', 268: 'Pedestrian', 269: 'Pedestrian', 270: 'Pedestrian', 271: 'Pedestrian', 272: 'Pedestrian', 273: 'Pedestrian', 274: 'Pedestrian', 275: 'Pedestrian', 276: 'Pedestrian', 277: 'Pedestrian', 278: 'Pedestrian', 279: 'Pedestrian', 280: 'Pedestrian', 281: 'Pedestrian', 282: 'Pedestrian', 283: 'Pedestrian', 284: 'Pedestrian', 285: 'Pedestrian', 286: 'Pedestrian', 287: 'Pedestrian', 288: 'Pedestrian', 289: 'Pedestrian', 290: 'Pedestrian', 291: 'Pedestrian', 292: 'Pedestrian', 293: 'Pedestrian', 294: 'Pedestrian', 295: 'Pedestrian', 296: 'Pedestrian', 297: 'Pedestrian', 298: 'Pedestrian', 299: 'Pedestrian', 300: 'Pedestrian', 301: 'Pedestrian', 302: 'Pedestrian', 303: 'Pedestrian', 304: 'Pedestrian', 305: 'Pedestrian', 306: 'Pedestrian', 307: 'Pedestrian', 308: 'Pedestrian', 309: 'Pedestrian', 310: 'Pedestrian', 311: 'Pedestrian', 312: 'Pedestrian', 313: 'Pedestrian', 314: 'Pedestrian', 315: 'Pedestrian', 316: 'Pedestrian', 317: 'Pedestrian', 318: 'Pedestrian', 319: 'Pedestrian', 320: 'Pedestrian', 321: 'Pedestrian', 322: 'Pedestrian', 323: 'Pedestrian', 324: 'Pedestrian', 325: 'Pedestrian', 326: 'Pedestrian', 327: 'Pedestrian', 328: 'Pedestrian', 329: 'Pedestrian', 330: 'Pedestrian', 331: 'Pedestrian', 332: 'Pedestrian', 333: 'Pedestrian', 334: 'Pedestrian', 335: 'Pedestrian', 336: 'Pedestrian', 337: 'Pedestrian', 338: 'Pedestrian', 339: 'Pedestrian', 340: 'Pedestrian', 341: 'Pedestrian', 342: 'Pedestrian', 343: 'Pedestrian', 344: 'Pedestrian', 345: 'Pedestrian', 346: 'Pedestrian', 347: 'Pedestrian', 348: 'Pedestrian', 349: 'Pedestrian', 350: 'Pedestrian', 351: 'Pedestrian', 352: 'Pedestrian', 353: 'Pedestrian', 354: 'Pedestrian', 355: 'Pedestrian', 356: 'Pedestrian', 357: 'Pedestrian', 358: 'Pedestrian', 359: 'Pedestrian', 360: 'Pedestrian', 361: 'Pedestrian', 362: 'Pedestrian', 363: 'Pedestrian', 364: 'Pedestrian', 365: 'Pedestrian', 366: 'Pedestrian', 367: 'Pedestrian', 368: 'Pedestrian', 369: 'Pedestrian', 370: 'Pedestrian', 371: 'Pedestrian', 372: 'Pedestrian', 373: 'Pedestrian', 374: 'Pedestrian', 375: 'Pedestrian', 376: 'Pedestrian', 377: 'Pedestrian', 378: 'Pedestrian', 379: 'Pedestrian', 380: 'Pedestrian', 381: 'Pedestrian', 382: 'Pedestrian', 383: 'Pedestrian', 384: 'Pedestrian', 385: 'Pedestrian', 386: 'Pedestrian', 387: 'Pedestrian', 388: 'Pedestrian', 389: 'Pedestrian', 390: 'Pedestrian', 391: 'Pedestrian', 392: 'Pedestrian', 393: 'Pedestrian', 394: 'Pedestrian', 395: 'Pedestrian', 396: 'Pedestrian', 397: 'Pedestrian', 398: 'Pedestrian', 399: 'Pedestrian', 400: 'Pedestrian', 401: 'Pedestrian', 402: 'Pedestrian', 403: 'Pedestrian', 404: 'Pedestrian', 405: 'Pedestrian', 406: 'Pedestrian', 407: 'Pedestrian', 408: 'Pedestrian', 409: 'Pedestrian', 410: 'Pedestrian', 411: 'Pedestrian', 412: 'Pedestrian', 413: 'Pedestrian', 414: 'Pedestrian', 415: 'Pedestrian', 416: 'Pedestrian', 417: 'Pedestrian', 418: 'Pedestrian', 419: 'Pedestrian', 420: 'Pedestrian', 421: 'Pedestrian', 422: 'Pedestrian', 423: 'Pedestrian', 424: 'Pedestrian', 425: 'Pedestrian', 426: 'Pedestrian', 427: 'Pedestrian', 428: 'Pedestrian', 429: 'Pedestrian', 430: 'Pedestrian', 431: 'Pedestrian', 432: 'Pedestrian', 433: 'Pedestrian', 434: 'Pedestrian', 435: 'Pedestrian', 436: 'Pedestrian', 437: 'Pedestrian', 438: 'Pedestrian', 439: 'Pedestrian', 440: 'Pedestrian', 441: 'Pedestrian', 442: 'Pedestrian', 443: 'Pedestrian', 444: 'Pedestrian'}\n"
     ]
    }
   ],
   "source": [
    "# Assuming 'obstacles', 'labels', and 'max_label' are from your DBSCAN clustering step\n",
    "labels_dict = {}\n",
    "for i in range(max_label + 1):\n",
    "    cluster = obstacles.select_by_index(np.where(labels == i)[0])\n",
    "    num_points = len(np.asarray(cluster.points))\n",
    "    labels_dict[i] = \"Car\" if num_points > 200 else \"Pedestrian\"\n",
    "\n",
    "# Save labels to a file\n",
    "with open(\"labels.txt\", \"w\") as f:\n",
    "    for cluster_id, label in labels_dict.items():\n",
    "        f.write(f\"Cluster {cluster_id}: {label}\\n\")\n",
    "\n",
    "# Print labels for verification\n",
    "print(labels_dict)"
   ]
  },
  {
   "cell_type": "markdown",
   "id": "878fecfe-30c0-4137-8acd-818099c56715",
   "metadata": {},
   "source": [
    "# Process a Sequence"
   ]
  },
  {
   "cell_type": "code",
   "execution_count": 21,
   "id": "60c23d6b-f5c9-4409-8968-638feca941d4",
   "metadata": {},
   "outputs": [
    {
     "name": "stdout",
     "output_type": "stream",
     "text": [
      "Processed 0000000000.bin\n",
      "Processed 0000000001.bin\n",
      "Processed 0000000002.bin\n",
      "Processed 0000000003.bin\n",
      "Processed 0000000004.bin\n"
     ]
    }
   ],
   "source": [
    "# Path to KITTI sequence data\n",
    "data_dir = \"kitti/2011_09_26/0005/velodyne_points/data/\"\n",
    "frames = sorted(os.listdir(data_dir))[:5]  # Select first 5 frames\n",
    "\n",
    "# Create output directory\n",
    "os.makedirs(\"output\", exist_ok=True)\n",
    "\n",
    "# Process each frame\n",
    "for frame in frames:\n",
    "    # Load point cloud\n",
    "    points = np.fromfile(os.path.join(data_dir, frame), dtype=np.float32).reshape(-1, 4)\n",
    "    pcd = o3d.geometry.PointCloud()\n",
    "    pcd.points = o3d.utility.Vector3dVector(points[:, :3])\n",
    "\n",
    "    # Downsample\n",
    "    pcd_down = pcd.voxel_down_sample(voxel_size=0.1)\n",
    "\n",
    "    # Filter noise\n",
    "    cl, ind = pcd_down.remove_statistical_outlier(nb_neighbors=20, std_ratio=2.0)\n",
    "    pcd_filtered = pcd_down.select_by_index(ind)\n",
    "\n",
    "    # Segment ground vs. obstacles\n",
    "    plane_model, inliers = pcd_filtered.segment_plane(distance_threshold=0.3, ransac_n=3, num_iterations=100)\n",
    "    obstacles = pcd_filtered.select_by_index(inliers, invert=True)\n",
    "\n",
    "    # Cluster obstacles\n",
    "    labels = np.array(obstacles.cluster_dbscan(eps=0.5, min_points=10))\n",
    "    colors = plt.get_cmap(\"tab20\")(labels / (labels.max() if labels.max() > 0 else 1))\n",
    "    obstacles.colors = o3d.utility.Vector3dVector(colors[:, :3])\n",
    "\n",
    "    # Save processed point cloud\n",
    "    o3d.io.write_point_cloud(f\"output/frame_{frame}.pcd\", obstacles)\n",
    "    print(f\"Processed {frame}\")"
   ]
  },
  {
   "cell_type": "markdown",
   "id": "298bf2ca-1695-45f6-a36a-2590f0c3c8e4",
   "metadata": {},
   "source": [
    "## Explore Frame Differences:"
   ]
  },
  {
   "cell_type": "code",
   "execution_count": 23,
   "id": "1e6d5bc8-efb7-40fe-b1fc-309521139584",
   "metadata": {},
   "outputs": [],
   "source": [
    "# Visualize the first and last frames\n",
    "frame_0 = o3d.io.read_point_cloud(\"output/frame_0000000000.bin.pcd\")\n",
    "frame_4 = o3d.io.read_point_cloud(\"output/frame_0000000004.bin.pcd\")\n",
    "o3d.visualization.draw_geometries([frame_0], window_name=\"Frame 0\")\n",
    "o3d.visualization.draw_geometries([frame_4], window_name=\"Frame 4\")"
   ]
  },
  {
   "cell_type": "markdown",
   "id": "f9af247b-91ee-47dc-a209-50f65dd51531",
   "metadata": {},
   "source": [
    "- **Frame 0**  \n",
    "  ![Frame 0](Frame_0.png)\n",
    "\n",
    "- **Frame 4**  \n",
    "  ![Frame 4](Frame_4.png)"
   ]
  },
  {
   "cell_type": "code",
   "execution_count": null,
   "id": "b213eb3c-554c-4197-8b33-3dc24c33f174",
   "metadata": {},
   "outputs": [],
   "source": []
  }
 ],
 "metadata": {
  "kernelspec": {
   "display_name": "Python 3 (ipykernel)",
   "language": "python",
   "name": "python3"
  },
  "language_info": {
   "codemirror_mode": {
    "name": "ipython",
    "version": 3
   },
   "file_extension": ".py",
   "mimetype": "text/x-python",
   "name": "python",
   "nbconvert_exporter": "python",
   "pygments_lexer": "ipython3",
   "version": "3.10.17"
  }
 },
 "nbformat": 4,
 "nbformat_minor": 5
}
